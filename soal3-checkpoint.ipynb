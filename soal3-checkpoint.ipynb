{
 "cells": [
  {
   "cell_type": "code",
   "execution_count": 1,
   "metadata": {},
   "outputs": [],
   "source": [
    "from bs4 import BeautifulSoup\n",
    "import requests\n",
    "import numpy as np\n",
    "import pandas as pd\n",
    "import matplotlib.pyplot as plt\n",
    "import folium"
   ]
  },
  {
   "cell_type": "code",
   "execution_count": null,
   "metadata": {},
   "outputs": [],
   "source": [
    "url = 'https://en.wikipedia.org/wiki/2020_coronavirus_pandemic_in_Indonesia'\n",
    "html = requests.get(url)\n",
    "soup = BeautifulSoup(html.content, 'html.parser')\n",
    "findtable =str(soup.find('table', {\"class\":\"wikitable float sortable\"}))\n",
    "soup = BeautifulSoup(findtable,'html.parser' )\n",
    "findvalue = soup.find_all('td')\n",
    "\n",
    "indexconfirmed=[0]\n",
    "indexrecovered=[1]\n",
    "indexdeath=[2]\n",
    "indexactive=[3]\n",
    "\n",
    "confirmed=0\n",
    "recovered=1\n",
    "death=2\n",
    "active=3\n",
    "\n",
    "dataconfirmed=[]\n",
    "datarecovered=[]\n",
    "datadeath=[]\n",
    "dataactive=[]\n",
    "\n",
    "for i in findvalue:\n",
    "    confirmed += 5\n",
    "    recovered += 5\n",
    "    death += 5\n",
    "    active += 5\n",
    "    indexconfirmed.append(confirmed)\n",
    "    indexrecovered.append(recovered)\n",
    "    indexdeath.append(death)\n",
    "    indexactive.append(active)\n",
    "\n",
    "for i in range(len(findvalue)) :\n",
    "    if i in indexconfirmed :\n",
    "        dataconfirmed.append(findvalue[i].text.replace('\\n',''))\n",
    "    elif i in indexrecovered :\n",
    "        datarecovered.append(findvalue[i].text.replace('\\n',''))\n",
    "    elif i in indexdeath :\n",
    "        datadeath.append(findvalue[i].text.replace('\\n',''))\n",
    "    elif i in indexactive :\n",
    "        dataactive.append(findvalue[i].text.replace('\\n',''))\n",
    "        \n",
    "dataconfirmed.pop()\n",
    "\n",
    "findprovince = soup.find_all('th')\n",
    "\n",
    "dataprovince = []"
   ]
  }
 ],
 "metadata": {
  "kernelspec": {
   "display_name": "Python 3.8.1 64-bit",
   "language": "python",
   "name": "python38164bit25edcb94c5c64acd88155e7adb675c26"
  },
  "language_info": {
   "codemirror_mode": {
    "name": "ipython",
    "version": 3
   },
   "file_extension": ".py",
   "mimetype": "text/x-python",
   "name": "python",
   "nbconvert_exporter": "python",
   "pygments_lexer": "ipython3",
   "version": "3.8.1"
  }
 },
 "nbformat": 4,
 "nbformat_minor": 4
}
